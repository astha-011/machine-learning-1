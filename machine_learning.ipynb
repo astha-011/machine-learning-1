{
  "nbformat": 4,
  "nbformat_minor": 0,
  "metadata": {
    "colab": {
      "provenance": []
    },
    "kernelspec": {
      "name": "python3",
      "display_name": "Python 3"
    },
    "language_info": {
      "name": "python"
    }
  },
  "cells": [
    {
      "cell_type": "code",
      "execution_count": null,
      "metadata": {
        "id": "oO5cN2GU7g2G"
      },
      "outputs": [],
      "source": []
    },
    {
      "cell_type": "markdown",
      "source": [
        "###ASSIGNMENT QUESTIONS"
      ],
      "metadata": {
        "id": "lX1hLlJO7id6"
      }
    },
    {
      "cell_type": "markdown",
      "source": [
        "1.What is a parameter?\n",
        "->Parameters are the internal variables that define how a model maps input features to output prediction.\n",
        "\n",
        "2.What is correlation?What does negative correlation mean?\n",
        "->Correlation refers to the statistical measure of the relationship between two or more variables.Negative correlation also known as inverse correlation ,means that two variables tend to move in opposite direction.\n",
        "\n",
        "3.Define Machine Learning. What are the main components in Machine Learning?\n",
        "->Machine learning is the supefield of computer science that gives computers the ability to learn witbout explicitley performed.The main components are Algorithm , data, models and predictions.\n",
        "\n",
        "4.How does loss value help in determining whether the model is good or not?\n",
        "->loss value quantifies how well a machine learning model is performing. A lower loss value generally indicates a better model, as it means the model's predictions are closer to the actual values. The goal of model training is to minimize the loss, ultimately leading to improved predictions.\n",
        "\n",
        "5.What are continuous and categorical variables?\n",
        "A continuous variable can take on any value within a given range, while a categorical variable represents data that can be sorted into categories or groups. Continuous variables are typically numeric and can be measured, while categorical variables are often descriptive and used for classification.\n",
        "\n",
        "6.How do we handle categorical variables in Machine Learning? What are the common techniques?\n",
        "->Handling categorical variables in machine learning involves converting them into a numerical format that models can understand. Common techniques include one-hot encoding, label encoding, and ordinal encoding. The best approach depends on the nature of the categorical data and the machine learning algorithm being used.\n",
        "\n",
        "7.What do you mean by training and testing a dataset?\n",
        "->\"Training\" a dataset means using a portion of the data to teach a model how to make predictions or classify new data. \"Testing\" a dataset, on the other hand, involves evaluating the trained model's performance on a separate, unseen portion of the data to assess its accuracy and generalization ability.\n",
        "\n",
        "8.What is sklearn.preprocessing??\n",
        "->Sklearn preprocessing refers to the module in the scikit-learn library in Python that provides functions and classes to transform raw data into a format suitable for machine learning models.\n",
        "\n",
        "9.What is a Test set?\n",
        "->In machine learning, a test set is a portion of the data set that is set aside and not used during the model's training or validation phases. It is used solely to evaluate the model's performance on unseen data after it has been fully trained.\n",
        "\n",
        "10.How do we split data for model fitting(training and testing)in Python?\n",
        " How do you approach a Machine Learning problem?\n",
        " ->In Python, data is typically split into training and testing sets using scikit-learn's train_test_split function. A typical split is 80% for training and 20% for testing, but this can be adjusted based on the dataset and problem. A machine learning approach involves defining the problem, collecting and preparing data, choosing a model, training the model, evaluating its performance, and potentially fine-tuning it.\n",
        "\n",
        " 11.Why do we have to perform EDA before fitting a model to the data?\n",
        " ->Exploratory Data Analysis (EDA) is crucial before fitting a model because it provides essential insights into the data's characteristics, helping identify potential problems, distributions, outliers, and relationships, which informs better feature engineering, model selection, and evaluation.\n",
        "\n",
        " 12.What is correlation?\n",
        " ->Correlation refers to the statistical measure of the relationship between two or more variables.\n",
        "\n",
        " 13.What does negative correlation mean?\n",
        " ->Negative correlation also known as inverse correlation ,means that two variables tend to move in opposite direction.\n",
        "\n",
        " 14.How can you find correlation between variables in Python?\n",
        " ->To find the correlation between variables in Python, several methods can be employed, primarily using libraries like NumPy, pandas, and SciPy.\n",
        "\n",
        " 15.What is causation? Explain difference between correlation and causation with an example.\n",
        "->While both correlation and causation describe relationships between variables, they differ fundamentally:\n",
        "\n",
        "Correlation indicates that two variables change together, but it doesn't imply that one causes the other. For instance, there's a correlation between ice cream sales and drowning incidents; however, this doesn't mean that buying ice cream causes drowning. The underlying factor is likely warmer weather, which increases both ice cream consumption and swimming activities, leading to more drownings.\n",
        "\n",
        "Causation, on the other hand, implies a direct cause-and-effect relationship. For example, smoking has been established as a cause of lung cancer through extensive scientific research.\n",
        "\n",
        "16.What is an Optimizer? What are different types of optimizers? Explain each with an example?\n",
        "->In machine learning, an optimizer is an algorithm used to adjust the parameters (weights and biases) of a model to minimize the loss function during training. The goal is to find the optimal set of parameters that enable the model to make accurate predictions.\n",
        "Types of optimizers:-\n",
        "1.Gradient Descent(GD) Example: Training a linear regression model on a small dataset.\n",
        "2.Stochastic Gradient Descent (SGD) Example: Training a neural network on a large dataset, where each update is based on one randomly selected sample.\n",
        "3.Mini-Batch Gradient Descent Example: Training a deep neural network on a large dataset using batches of 32 or 64 samples.\n",
        "\n",
        "17.What is sklearn.linear_model ?\n",
        "->In scikit-learn, the module sklearn.linear_model provides a collection of linear models for both regression and classification tasks. These models assume a linear relationship between the input features and the target variable, making them foundational tools in predictive modeling.\n",
        "\n",
        "18.What does model.fit() do? What arguments must be given?\n",
        "->In scikit-learn, the fit() method is a fundamental function used to train machine learning models. It enables the model to learn from the provided data, adjusting its internal parameters to capture the underlying patterns.\n",
        "The fit() method typically requires the following arguments:\n",
        "\n",
        "X: The feature matrix, a 2D array-like structure where each row represents a sample and each column represents a feature.\n",
        "\n",
        "y: The target vector, a 1D array-like structure containing the labels or target values corresponding to each sample in X.\n",
        "\n",
        "19.What does model.predict() do? What arguments must be given?\n",
        "->In scikit-learn, the model.predict() method is used to generate predictions from a trained model. After fitting a model using model.fit(X_train, y_train), you can use model.predict(X_new) to predict the target values for new, unseen data X_new.\n",
        "Model Type: The output of predict() depends on the type of model:\n",
        "\n",
        "Regression models: Return continuous values.\n",
        "\n",
        "Classification models: Return class labels.\n",
        "\n",
        "20.What are continuous and categorical variable?\n",
        "->Continuous variables are numerical variables that can take on an infinite number of values within a given range. They can be measured and expressed in fractions or decimals.\n",
        "Categorical variables represent distinct categories or groups and do not have a numerical value. They can be further divided into nominal and ordinal variables.\n",
        "\n",
        "21.What is feature scaling? How does it help in Machine Learning?\n",
        "->Feature scaling is a preprocessing technique in machine learning where numerical features are transformed to a similar scale. This ensures that no single feature dominates the learning process due to its larger magnitude\n",
        "\n",
        "22.How do we perform scaling in Python?\n",
        "->In Python, feature scaling is commonly performed using the scikit-learn library, which provides several preprocessing tools. Here's how you can apply scaling to your data:\n",
        "1.Standardization (Z-score Normalization)\n",
        "2.Min-Max Scaling\n",
        "3.Robust Scaling\n",
        "\n",
        "23.What is sklearn.preprocessing?\n",
        "->Scikit-learn (sklearn) preprocessing refers to the module within the sklearn library in Python that provides functions and classes for transforming raw data into a format suitable for machine learning models\n",
        "\n",
        "24.How do we split data for model fitting (training and testing) in Python?\n",
        "->In Python, data is typically split into training and testing sets using scikit-learn's train_test_split function. A typical split is 80% for training and 20% for testing, but this can be adjusted based on the dataset and problem. A machine learning approach involves defining the problem, collecting and preparing data, choosing a model, training the model, evaluating its performance, and potentially fine-tuning it.\n",
        "\n",
        "25.Explain data encoding?\n",
        "->Data encoding is the process of converting categorical data—such as labels or categories—into numerical format so that machine learning models can interpret and process them effectively. Since most algorithms require numerical input, encoding ensures that categorical variables can be included in the modeling process.\n",
        "\n"
      ],
      "metadata": {
        "id": "G2YEJfVQ7m_i"
      }
    }
  ]
}